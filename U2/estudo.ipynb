{
 "cells": [
  {
   "cell_type": "code",
   "execution_count": 2,
   "metadata": {},
   "outputs": [
    {
     "data": {
      "text/plain": [
       "'/home/andre/Documents/Git/CONTROLE_DCA3701.X/U2'"
      ]
     },
     "execution_count": 2,
     "metadata": {},
     "output_type": "execute_result"
    }
   ],
   "source": [
    "import numpy as np\n",
    "import matplotlib.pyplot as plt\n",
    "from scipy import signal\n",
    "import control as ct\n",
    "import os\n",
    "\n",
    "PATH = os.getcwd()\n",
    "\n",
    "PATH"
   ]
  },
  {
   "cell_type": "markdown",
   "metadata": {},
   "source": [
    "# Especificações de projeto\n"
   ]
  },
  {
   "cell_type": "markdown",
   "metadata": {},
   "source": [
    "* Função de Transferêcia característica:\n",
    "\n",
    "$\\frac{C(s)}{R(s)} = \\frac{\\omega^2_n}{s^2 + 2 \\xi\\omega_n s + \\omega^2_n}$\n",
    "\n",
    "<br>\n",
    "\n",
    "* Polos:\n",
    "\n",
    "$s = -\\xi \\omega_n \\pm j \\omega_n \\sqrt{1 - \\xi^2}$\n",
    "\n",
    "<br>\n",
    "\n",
    "* *Overshoot*:\n",
    "\n",
    "$M_p(\\%) \\leq M$\n",
    "\n",
    "$M_p = e^{-\\frac{\\pi \\xi}{\\sqrt{1 - \\xi^2}}}$\n",
    "\n",
    "<br>\n",
    "\n",
    "* Tempo de acomodação:\n",
    "\n",
    "$t_s = T$\n",
    "\n",
    "<br>\n",
    "\n",
    "* Fator de amortecimento:\n",
    "\n",
    "$\\xi \\geq \\xi_{min}$\n",
    "\n",
    "$\\xi = \\sqrt{\\frac{(ln(M_p)^2)}{\\pi^2 + ln(M_p)^2}}$\n",
    "\n",
    "<br>\n",
    "\n",
    "* Região Viável para os polos de segunda ordem:\n",
    "\n",
    "$\\xi \\omega_n \\geq (\\xi \\omega_n)_{min}$"
   ]
  },
  {
   "cell_type": "markdown",
   "metadata": {},
   "source": [
    "![Regiao](./img/regiao_pain.png)"
   ]
  },
  {
   "cell_type": "markdown",
   "metadata": {},
   "source": [
    "# Projeto de um controladot PD"
   ]
  },
  {
   "cell_type": "markdown",
   "metadata": {},
   "source": [
    "colocar os passos"
   ]
  },
  {
   "cell_type": "markdown",
   "metadata": {},
   "source": [
    "## Exemplo\n",
    "\n",
    "Projetar um controlador com $G_c(s)$ com:\n",
    "* $t_s = 4s$\n",
    "* $M_p \\leq 0,2 (20\\%)$\n",
    "* $K_a \\geq 4$\n",
    "\n",
    "Planta:\n",
    "$\\frac{2}{s^2}$"
   ]
  },
  {
   "cell_type": "markdown",
   "metadata": {},
   "source": [
    "* Primeiro calcularemos onde zero do controlador irá ficar com base na região mínima de atuação do plano $s$"
   ]
  },
  {
   "cell_type": "code",
   "execution_count": 19,
   "metadata": {},
   "outputs": [
    {
     "name": "stdout",
     "output_type": "stream",
     "text": [
      "amortecimento: 0.4559498107691261\n",
      "wn: 2.193223851355776\n",
      "wd: 1.9519812231545504j\n",
      "Polo min: 0.9999999999999999\n",
      "\n",
      "Usando a equação dos polos teremos:\n",
      "-0.9999999999999999 -+ 1.9519812658311713\n"
     ]
    }
   ],
   "source": [
    "ts = 4\n",
    "Mp = 0.2\n",
    "Ka = 4\n",
    "\n",
    "#\\xi\n",
    "fator_amortecimento = np.sqrt(np.log(Mp)**2 / (np.pi**2 + np.log(Mp)**2))\n",
    "print(f'amortecimento: {fator_amortecimento}')\n",
    "\n",
    "# wn\n",
    "omega_n = 4 / (fator_amortecimento * ts)\n",
    "print(f'wn: {omega_n}')\n",
    "\n",
    "#wd\n",
    "omega_d = omega_n * np.sqrt(fator_amortecimento**2 - 1, dtype=np.complex64)\n",
    "print(f'wd: {omega_d}')\n",
    "\n",
    "# Zero minimo\n",
    "polo_minimo = fator_amortecimento * omega_n\n",
    "print(f'Polo min: {polo_minimo}\\n')\n",
    "\n",
    "print(f'Usando a equação dos polos teremos:')\n",
    "print(f'{-fator_amortecimento*omega_n} -+ {omega_n*np.sqrt(1-fator_amortecimento**2)}')"
   ]
  },
  {
   "cell_type": "markdown",
   "metadata": {},
   "source": [
    "* Fazer a condição de ângulo para saber onde o zero deverá ser colocado "
   ]
  },
  {
   "cell_type": "markdown",
   "metadata": {},
   "source": [
    "1. Como a planta tem dois polos na origem, logo:\n",
    "\n",
    "$\\theta_1 = \\theta_2 = \\theta = 180° - tg^{-1}(\\frac{\\omega_d}{(\\xi \\omega_n)_{min}})$\n",
    "\n",
    "$\\theta_1 + \\theta_2 = \\theta = 180° - tg^{-1}(\\frac{2}{1})$\n",
    "\n",
    "$\\theta_1 + \\theta_2 = \\theta = 116,56° $\n",
    "\n",
    "2. Calcular o ângulo do zero:\n",
    "\n",
    "$-\\theta_1 - \\theta_2 + \\phi = 180°$\n",
    "\n",
    "$\\phi = -180° + (116,56° + 116,56°) = 53,12°$"
   ]
  }
 ],
 "metadata": {
  "kernelspec": {
   "display_name": "Python 3",
   "language": "python",
   "name": "python3"
  },
  "language_info": {
   "codemirror_mode": {
    "name": "ipython",
    "version": 3
   },
   "file_extension": ".py",
   "mimetype": "text/x-python",
   "name": "python",
   "nbconvert_exporter": "python",
   "pygments_lexer": "ipython3",
   "version": "3.9.10"
  }
 },
 "nbformat": 4,
 "nbformat_minor": 2
}
