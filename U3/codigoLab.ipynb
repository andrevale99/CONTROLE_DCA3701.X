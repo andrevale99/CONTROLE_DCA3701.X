{
 "cells": [
  {
   "cell_type": "code",
   "execution_count": 1,
   "metadata": {},
   "outputs": [
    {
     "data": {
      "text/plain": [
       "'/home/andre/Documents/Git/CONTROLE_DCA3701.X/U3'"
      ]
     },
     "execution_count": 1,
     "metadata": {},
     "output_type": "execute_result"
    }
   ],
   "source": [
    "import numpy as np\n",
    "import matplotlib.pyplot as plt\n",
    "from scipy import signal\n",
    "import control as ct\n",
    "import os\n",
    "\n",
    "PATH = os.getcwd()\n",
    "PATH"
   ]
  },
  {
   "cell_type": "markdown",
   "metadata": {},
   "source": [
    "# Lab 03A"
   ]
  },
  {
   "cell_type": "code",
   "execution_count": 57,
   "metadata": {},
   "outputs": [
    {
     "name": "stdout",
     "output_type": "stream",
     "text": [
      "[[-0.32235255 -1.0844337  -3.76569899]]\n"
     ]
    },
    {
     "ename": "ValueError",
     "evalue": "The input arrays have incompatible shapes.",
     "output_type": "error",
     "traceback": [
      "\u001b[0;31m---------------------------------------------------------------------------\u001b[0m",
      "\u001b[0;31mValueError\u001b[0m                                Traceback (most recent call last)",
      "Cell \u001b[0;32mIn[57], line 44\u001b[0m\n\u001b[1;32m     40\u001b[0m K \u001b[38;5;241m=\u001b[39m \u001b[38;5;241m-\u001b[39mct\u001b[38;5;241m.\u001b[39macker(A_aumentado, B_aumentado, Polos)\n\u001b[1;32m     42\u001b[0m \u001b[38;5;28mprint\u001b[39m(K)\n\u001b[0;32m---> 44\u001b[0m system \u001b[38;5;241m=\u001b[39m \u001b[43msignal\u001b[49m\u001b[38;5;241;43m.\u001b[39;49m\u001b[43mStateSpace\u001b[49m\u001b[43m(\u001b[49m\u001b[43mA_aumentado\u001b[49m\u001b[43m,\u001b[49m\u001b[43mB_aumentado\u001b[49m\u001b[43m,\u001b[49m\u001b[43mC\u001b[49m\u001b[43m,\u001b[49m\u001b[43mD\u001b[49m\u001b[43m)\u001b[49m\n",
      "File \u001b[0;32m~/.local/lib/python3.9/site-packages/scipy/signal/_ltisys.py:1344\u001b[0m, in \u001b[0;36mStateSpace.__init__\u001b[0;34m(self, *system, **kwargs)\u001b[0m\n\u001b[1;32m   1341\u001b[0m \u001b[38;5;28mself\u001b[39m\u001b[38;5;241m.\u001b[39m_C \u001b[38;5;241m=\u001b[39m \u001b[38;5;28;01mNone\u001b[39;00m\n\u001b[1;32m   1342\u001b[0m \u001b[38;5;28mself\u001b[39m\u001b[38;5;241m.\u001b[39m_D \u001b[38;5;241m=\u001b[39m \u001b[38;5;28;01mNone\u001b[39;00m\n\u001b[0;32m-> 1344\u001b[0m \u001b[38;5;28mself\u001b[39m\u001b[38;5;241m.\u001b[39mA, \u001b[38;5;28mself\u001b[39m\u001b[38;5;241m.\u001b[39mB, \u001b[38;5;28mself\u001b[39m\u001b[38;5;241m.\u001b[39mC, \u001b[38;5;28mself\u001b[39m\u001b[38;5;241m.\u001b[39mD \u001b[38;5;241m=\u001b[39m \u001b[43mabcd_normalize\u001b[49m\u001b[43m(\u001b[49m\u001b[38;5;241;43m*\u001b[39;49m\u001b[43msystem\u001b[49m\u001b[43m)\u001b[49m\n",
      "File \u001b[0;32m~/.local/lib/python3.9/site-packages/scipy/signal/_lti_conversion.py:190\u001b[0m, in \u001b[0;36mabcd_normalize\u001b[0;34m(A, B, C, D)\u001b[0m\n\u001b[1;32m    188\u001b[0m A \u001b[38;5;241m=\u001b[39m _restore(A, (p, p))\n\u001b[1;32m    189\u001b[0m B \u001b[38;5;241m=\u001b[39m _restore(B, (p, q))\n\u001b[0;32m--> 190\u001b[0m C \u001b[38;5;241m=\u001b[39m \u001b[43m_restore\u001b[49m\u001b[43m(\u001b[49m\u001b[43mC\u001b[49m\u001b[43m,\u001b[49m\u001b[43m \u001b[49m\u001b[43m(\u001b[49m\u001b[43mr\u001b[49m\u001b[43m,\u001b[49m\u001b[43m \u001b[49m\u001b[43mp\u001b[49m\u001b[43m)\u001b[49m\u001b[43m)\u001b[49m\n\u001b[1;32m    191\u001b[0m D \u001b[38;5;241m=\u001b[39m _restore(D, (r, q))\n\u001b[1;32m    193\u001b[0m \u001b[38;5;28;01mreturn\u001b[39;00m A, B, C, D\n",
      "File \u001b[0;32m~/.local/lib/python3.9/site-packages/scipy/signal/_lti_conversion.py:145\u001b[0m, in \u001b[0;36m_restore\u001b[0;34m(M, shape)\u001b[0m\n\u001b[1;32m    143\u001b[0m \u001b[38;5;28;01melse\u001b[39;00m:\n\u001b[1;32m    144\u001b[0m     \u001b[38;5;28;01mif\u001b[39;00m M\u001b[38;5;241m.\u001b[39mshape \u001b[38;5;241m!=\u001b[39m shape:\n\u001b[0;32m--> 145\u001b[0m         \u001b[38;5;28;01mraise\u001b[39;00m \u001b[38;5;167;01mValueError\u001b[39;00m(\u001b[38;5;124m\"\u001b[39m\u001b[38;5;124mThe input arrays have incompatible shapes.\u001b[39m\u001b[38;5;124m\"\u001b[39m)\n\u001b[1;32m    146\u001b[0m     \u001b[38;5;28;01mreturn\u001b[39;00m M\n",
      "\u001b[0;31mValueError\u001b[0m: The input arrays have incompatible shapes."
     ]
    }
   ],
   "source": [
    "g = 981 #aceleracao da gravidade (cm^2/s)\n",
    "Km = 11.\n",
    "\n",
    "A1 = 15.5179 #area da secao transversal do tanque (cm^2)\n",
    "A2 = A1\n",
    "\n",
    "a1 = 0.17813919765 #area do orifico (cm2^2)\n",
    "a2 = a1\n",
    "\n",
    "L20 = 15 \n",
    "L10 = (a2**2 / a1**2) * L20\n",
    "\n",
    "A = np.array([\n",
    "    [((-a1 / A1) * np.sqrt(g / (2*L10))), 0], \n",
    "    [((a1 / A2) * np.sqrt(g / (2*L10))), ((-a2 / A2) * np.sqrt(g / (2*L20)))]\n",
    "])\n",
    "\n",
    "B = np.array([[Km/A1, 0]])\n",
    "C = np.array([0,1])\n",
    "\n",
    "A_aumentado = np.array([\n",
    "    [0, 0, 1],\n",
    "    [0, A[0][0], A[0][1]],\n",
    "    [0, A[1][0], A[1][1]]\n",
    "])\n",
    "\n",
    "B_aumentado = np.array([\n",
    "    [0],\n",
    "    [Km/A1],\n",
    "    [0]\n",
    "])\n",
    "\n",
    "D = 0\n",
    "\n",
    "Polos = np.array([-0.1, -0.3, -0.5])\n",
    "# Polos = np.array([-0.15, -0.3, -0.1])\n",
    "# Polos = np.array([-0.3, -0.1, -0.1])\n",
    "# Polos = np.array([-0.3, -0.15, -0.15])\n",
    "\n",
    "K = -ct.acker(A_aumentado, B_aumentado, Polos)\n",
    "\n",
    "print(K)\n",
    "\n",
    "system = signal.StateSpace(A_aumentado,B_aumentado,C,D)"
   ]
  }
 ],
 "metadata": {
  "kernelspec": {
   "display_name": "Python 3",
   "language": "python",
   "name": "python3"
  },
  "language_info": {
   "codemirror_mode": {
    "name": "ipython",
    "version": 3
   },
   "file_extension": ".py",
   "mimetype": "text/x-python",
   "name": "python",
   "nbconvert_exporter": "python",
   "pygments_lexer": "ipython3",
   "version": "3.9.10"
  }
 },
 "nbformat": 4,
 "nbformat_minor": 2
}
