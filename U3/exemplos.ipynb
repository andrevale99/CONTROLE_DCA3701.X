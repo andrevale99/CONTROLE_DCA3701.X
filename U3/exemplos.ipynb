{
 "cells": [
  {
   "cell_type": "code",
   "execution_count": 50,
   "metadata": {},
   "outputs": [
    {
     "data": {
      "text/plain": [
       "'/home/andre/Documents/Codes/Python/CONTROLE/U3'"
      ]
     },
     "execution_count": 50,
     "metadata": {},
     "output_type": "execute_result"
    }
   ],
   "source": [
    "import numpy as np\n",
    "import matplotlib.pyplot as plt\n",
    "from scipy import signal\n",
    "import control as ct\n",
    "import os\n",
    "\n",
    "PATH = os.getcwd()\n",
    "PATH"
   ]
  },
  {
   "cell_type": "markdown",
   "metadata": {},
   "source": [
    "# Exemplo\n",
    "\n",
    "![IMG](./exemplo.jpg)"
   ]
  },
  {
   "cell_type": "code",
   "execution_count": 4,
   "metadata": {},
   "outputs": [],
   "source": [
    "A = np.array([\n",
    "    [1, 0],\n",
    "    [0, -2]\n",
    "])\n",
    "\n",
    "B = np.array([\n",
    "    [1],\n",
    "    [1]\n",
    "])\n",
    "\n",
    "C = np.array([1,1])\n",
    "\n",
    "Polos_controlador = np.array([-10, -1, -2])\n",
    "Polos_observador = np.array([-3, -3])"
   ]
  },
  {
   "cell_type": "markdown",
   "metadata": {},
   "source": [
    "## Achar os ganhos K com a equação de ackermann\n",
    "\n",
    "![IMG](./acker_controlador.jpg)"
   ]
  },
  {
   "cell_type": "markdown",
   "metadata": {},
   "source": [
    "* Polinômio com os polos desejados:\n",
    "$ \\Delta (s) = (s - (-10)) \\cdot (s - (-1)) \\cdot (s - (-2))  = s^3 + 13s^2 + 32s + 20$"
   ]
  },
  {
   "cell_type": "markdown",
   "metadata": {},
   "source": [
    "* Como o sistema tem 2 variáveis de estados com 3 polos, deve-se manipular o seguidor de linha para ter suas matrizes aumentadas\n",
    "\n",
    "![IMG](./seguidor.jpg)"
   ]
  },
  {
   "cell_type": "code",
   "execution_count": 68,
   "metadata": {},
   "outputs": [
    {
     "name": "stdout",
     "output_type": "stream",
     "text": [
      "Ganhos K: [-20.  -2. -10.]\n"
     ]
    }
   ],
   "source": [
    "Aa = np.array([\n",
    "    [0, 1, 1],\n",
    "    [0, 1, 0],\n",
    "    [0, 0, -2]\n",
    "])\n",
    "\n",
    "Ba = np.array([\n",
    "    [0],\n",
    "    [1],\n",
    "    [1]\n",
    "])\n",
    "\n",
    "U = np.concatenate((Ba, Aa@Ba, np.linalg.matrix_power(Aa, 2)@Ba), axis=1)\n",
    "U_inversa = np.linalg.inv(U)\n",
    "# print(U_inversa)\n",
    "\n",
    "qc_A = np.linalg.matrix_power(Aa, 3) + 13*np.linalg.matrix_power(Aa, 2) + 32*Aa + 20 * np.eye(3)\n",
    "# print(qc_A)\n",
    "\n",
    "K =  -np.array([0,0,1]) @ U_inversa @ qc_A \n",
    "print(f'Ganhos K: {K}')\n",
    "\n",
    "# Usando as funcoes das bibliotecas\n",
    "# K = -ct.acker(Aa, Ba, Polos_controlador)\n",
    "# K"
   ]
  },
  {
   "cell_type": "markdown",
   "metadata": {},
   "source": [
    "## Achar os ganhos L com ackermann\n",
    "![IMG](./acker_observador.jpg)"
   ]
  },
  {
   "cell_type": "markdown",
   "metadata": {},
   "source": [
    "* Polinômio:\n",
    "$\\Delta(s) = (s-(-3)) \\cdot (s-(-3)) = s^2 + 6s + 9$"
   ]
  },
  {
   "cell_type": "code",
   "execution_count": 99,
   "metadata": {},
   "outputs": [
    {
     "name": "stdout",
     "output_type": "stream",
     "text": [
      "[[ 0.66666667  0.33333333]\n",
      " [ 0.33333333 -0.33333333]]\n",
      "[[16.  0.]\n",
      " [ 0.  1.]]\n",
      "[ 5.33333333 -0.33333333]\n"
     ]
    }
   ],
   "source": [
    "V = np.array([\n",
    "    C,\n",
    "    C@A\n",
    "])\n",
    "\n",
    "V_inversa = np.linalg.inv(V)\n",
    "print(V_inversa)\n",
    "\n",
    "ql_A = np.linalg.matrix_power(A, 2) + 6*A + 9 * np.eye(2)\n",
    "print(ql_A)\n",
    "\n",
    "L = ql_A @ V_inversa @ np.array([0, 1]).T\n",
    "print(L)\n",
    "\n",
    "# Como o vetor C é de uma dimensao\n",
    "# o numpy nao altera o vetor quando realiza\n",
    "# o .transpose ou .T, deve-se arranjar algum\n",
    "# jeito de modifica-lo\n",
    "# C_T = np.array([C]).T\n",
    "# L = ct.acker(A, C_T, Polos_observador)\n",
    "# print(L)"
   ]
  }
 ],
 "metadata": {
  "kernelspec": {
   "display_name": "Python 3",
   "language": "python",
   "name": "python3"
  },
  "language_info": {
   "codemirror_mode": {
    "name": "ipython",
    "version": 3
   },
   "file_extension": ".py",
   "mimetype": "text/x-python",
   "name": "python",
   "nbconvert_exporter": "python",
   "pygments_lexer": "ipython3",
   "version": "3.9.10"
  }
 },
 "nbformat": 4,
 "nbformat_minor": 2
}
