{
 "cells": [
  {
   "cell_type": "code",
   "execution_count": null,
   "metadata": {
    "vscode": {
     "languageId": "plaintext"
    }
   },
   "outputs": [],
   "source": [
    "clear all\n",
    "clc\n",
    "\n",
    "A = [0 1 0; 0 0 1; -1 -5 -6];\n",
    "B = [0 1 1]';\n",
    "C = [1 0 0];\n",
    "\n",
    "Pc = [-1+4j -1-4j -10];\n",
    "\n",
    "%qc = (A*A*A) + 12*A*A + 37*A + 170*eye(3,3);\n",
    "%U = [B A*B A*A*B]\n",
    "%U_inv = inv(U)\n",
    "\n",
    "%K = -[0 0 1] * U_inv * qc\n",
    "\n",
    "K = -acker(A,B,Pc)\n",
    "\n",
    "Aa = [A+B*K];\n",
    "Ba = [B];\n",
    "Ca = [1 0 0];\n",
    "\n",
    "\n",
    "t = 0:0.1:10;\n",
    "u = 0*t;\n",
    "x0 = [1 0 0]';\n",
    "\n",
    "sys = ss(Aa, Ba, Ca, 0);\n",
    "[Y X] = lsim(sys, u, t, x0);\n",
    "\n",
    "title('Saída com Realimentação')\n",
    "plot(t, Y)"
   ]
  },
  {
   "cell_type": "markdown",
   "metadata": {},
   "source": [
    "![saida_q1](./matlab/Q1_simulink.jpg)"
   ]
  },
  {
   "cell_type": "markdown",
   "metadata": {},
   "source": [
    "![estados_q1](./matlab/Q1estados_simulink.jpg)"
   ]
  },
  {
   "cell_type": "code",
   "execution_count": null,
   "metadata": {
    "vscode": {
     "languageId": "plaintext"
    }
   },
   "outputs": [],
   "source": [
    "clear all\n",
    "clc\n",
    "\n",
    "A = [0 1 0; 0 0 1; 0 -5 -6];\n",
    "B = [0 0 1]';\n",
    "C = [1 0 0];\n",
    "\n",
    "Pc = [-2+4j -2-4j -10];\n",
    "\n",
    "%qc = (A*A*A) + 14*A*A + 60*A + 200*eye(3,3);\n",
    "%U = [B A*B A*A*B]\n",
    "%U_inv = inv(U)\n",
    "\n",
    "%K = -[0 0 1] * U_inv * qc\n",
    "\n",
    "K = -acker(A,B,Pc)\n",
    "\n",
    "Aa = [A+B*K];\n",
    "Ba = [B];\n",
    "Ca = [1 0 0];\n",
    "\n",
    "\n",
    "t = 0:0.1:10;\n",
    "u = 0*t;\n",
    "x0 = [1 0 0]';\n",
    "\n",
    "sys = ss(Aa, Ba, Ca, 0);\n",
    "[Y X] = lsim(sys, u, t, x0);\n",
    "\n",
    "title('Saída com Realimentação')\n",
    "plot(t, Y)"
   ]
  },
  {
   "cell_type": "markdown",
   "metadata": {},
   "source": [
    "![saida_q2](./matlab/Q2_simulink.jpg)"
   ]
  },
  {
   "cell_type": "markdown",
   "metadata": {},
   "source": [
    "![saida_q2](./matlab/Q2estados_simulink.jpg)"
   ]
  },
  {
   "cell_type": "code",
   "execution_count": null,
   "metadata": {
    "vscode": {
     "languageId": "plaintext"
    }
   },
   "outputs": [],
   "source": [
    "clear all\n",
    "clc\n",
    "\n",
    "A = [0 1 0; 0 0 1; -6 -11 -6];\n",
    "B = [0 0 1]';\n",
    "C = [1 0 0];\n",
    "\n",
    "Pc = [-1+1j -1-1j -5]\n",
    "Po = [-6 -6 -6]\n",
    "\n",
    "K = -acker(A, B, Pc)\n",
    "\n",
    "L = acker(A', C', Po)'\n",
    "\n",
    "Aa = [A B*K ; L*C (A - L*C + B*K)];\n",
    "Ba = [B;B];\n",
    "Ca = [C 0 0 0];\n",
    "\n",
    "t = 0:0.1:10;\n",
    "u = 0*t;\n",
    "x0 = [1 0 0 0 0 0]';\n",
    "\n",
    "sys = ss(Aa, Ba, Ca, 0);\n",
    "[Y X] = lsim(sys, u, t, x0)\n",
    "\n",
    "title('Saída com Realimentação + Observador')\n",
    "plot(t, Y)\n"
   ]
  },
  {
   "cell_type": "markdown",
   "metadata": {},
   "source": [
    "![saida_q2](./matlab/Q3_simulink.jpg)"
   ]
  },
  {
   "cell_type": "markdown",
   "metadata": {},
   "source": [
    "![saida_q2](./matlab/Q3estados_simulink.jpg)"
   ]
  }
 ],
 "metadata": {
  "language_info": {
   "name": "python"
  }
 },
 "nbformat": 4,
 "nbformat_minor": 2
}
