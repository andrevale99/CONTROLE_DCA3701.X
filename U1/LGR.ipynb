{
 "cells": [
  {
   "cell_type": "code",
   "execution_count": 75,
   "metadata": {
    "id": "OMhWI0PMzUhO"
   },
   "outputs": [],
   "source": [
    "import control as ct\n",
    "from tbcontrol.symbolic import routh\n",
    "import sympy\n",
    "import matplotlib.pyplot as plt\n",
    "import numpy as np"
   ]
  },
  {
   "cell_type": "markdown",
   "metadata": {
    "id": "E3eV6NqIzFd2"
   },
   "source": [
    "# Etapas do LGR\n"
   ]
  },
  {
   "cell_type": "markdown",
   "metadata": {},
   "source": [
    "Dados das questões"
   ]
  },
  {
   "cell_type": "code",
   "execution_count": null,
   "metadata": {},
   "outputs": [],
   "source": [
    "polos = np.array([0,0,-9], dtype=np.complex64)\n",
    "zeros = np.array([-1], dtype=np.complex64)\n",
    "\n",
    "k,s = sympy.symbols('k s')\n",
    "# Escrever Gs e Hs e achar o Ps\n",
    "GsHs_numerador = (s + 1)\n",
    "GsHs_denominador = s**2*(s + 9)\n",
    "\n",
    "si = -2 + 1.j\n",
    "\n",
    "# AS DUAS VARIAVEIS ABAIXO SERVEM PARA PLOTAR\n",
    "# O GRAFICO NA ÚLTIMA CÉLULA\n",
    "# \n",
    "# No menor indice do vetor, deve ser colocado\n",
    "# a constante que acompanha o termo \"s\" de maior\n",
    "# grau. TODOS OS TERMOS DEVEM ESTA COM O SINAL TROCADO\n",
    "# Se o POLO/ZERO for do lado esquerdo do plano S, deve-se\n",
    "# inverter seu sinal\n",
    "# \n",
    "# EXEMPLO: (2s^2 + 4s + 7) / (s^2 + 99s)\n",
    "# numerador = np.array([2,4,0,7]) \n",
    "# denominador = np.array([1,99,0])\n",
    "Zeros_plot = np.array([1,1])\n",
    "Polos_plot = np.array([1,9,0,0])"
   ]
  },
  {
   "cell_type": "markdown",
   "metadata": {
    "id": "x7eODkXGzv9K"
   },
   "source": [
    "## 1. Escrever o Polinômio característico"
   ]
  },
  {
   "cell_type": "markdown",
   "metadata": {
    "id": "6TuCH2jez1Yh"
   },
   "source": [
    "$ 1 + G(s)H(s) = 0$ ou $1 + KP(s)$\n",
    "\n",
    "<br>\n",
    "\n",
    "sendo: $P(s) = G(s)H(s)$"
   ]
  },
  {
   "cell_type": "code",
   "execution_count": 77,
   "metadata": {
    "colab": {
     "base_uri": "https://localhost:8080/",
     "height": 122
    },
    "executionInfo": {
     "elapsed": 19,
     "status": "ok",
     "timestamp": 1744199146914,
     "user": {
      "displayName": "Andre Vale",
      "userId": "13312807037764510730"
     },
     "user_tz": 180
    },
    "id": "jqzXwd9l0FiO",
    "outputId": "e6c3f96d-aa3b-4bcf-b3f0-8d31c7d3abb9"
   },
   "outputs": [
    {
     "data": {
      "text/latex": [
       "$\\displaystyle s + 1$"
      ],
      "text/plain": [
       "s + 1"
      ]
     },
     "metadata": {},
     "output_type": "display_data"
    },
    {
     "data": {
      "text/latex": [
       "$\\displaystyle s^{2} \\left(s + 9\\right)$"
      ],
      "text/plain": [
       "s**2*(s + 9)"
      ]
     },
     "metadata": {},
     "output_type": "display_data"
    }
   ],
   "source": [
    "display(GsHs_numerador)\n",
    "display(GsHs_denominador)"
   ]
  },
  {
   "cell_type": "markdown",
   "metadata": {
    "id": "1WABoUJS0peK"
   },
   "source": [
    "## 2. Fatorar o polinômio"
   ]
  },
  {
   "cell_type": "markdown",
   "metadata": {
    "id": "sD0R3kJF01W0"
   },
   "source": [
    "Fatorar o polinômio para ficar em função de Zeros ($n_z$) e Polos ($n_p$):\n",
    "\n",
    "<br>\n",
    "\n",
    "$1 + G(s)H(s) = 1 + K \\cdot \\frac{\\prod_{i=1}^{n_z}(s + z_i)}{\\prod_{j=1}^{n_p}(s + p_j)}$"
   ]
  },
  {
   "cell_type": "code",
   "execution_count": 78,
   "metadata": {},
   "outputs": [
    {
     "data": {
      "text/latex": [
       "$\\displaystyle \\frac{s + 1}{s^{2} \\left(s + 9\\right)}$"
      ],
      "text/plain": [
       "(s + 1)/(s**2*(s + 9))"
      ]
     },
     "metadata": {},
     "output_type": "display_data"
    }
   ],
   "source": [
    "Ps = GsHs_numerador / GsHs_denominador\n",
    "Ps = sympy.factor(Ps)\n",
    "display(Ps)"
   ]
  },
  {
   "cell_type": "markdown",
   "metadata": {
    "id": "13rEqKdv2CWS"
   },
   "source": [
    "## 3. Desenha no plano S os Zeros e Polos\n"
   ]
  },
  {
   "cell_type": "markdown",
   "metadata": {
    "id": "W7gpgG_i2Q6u"
   },
   "source": [
    "* Polos = X\n",
    "* Zeros = O"
   ]
  },
  {
   "cell_type": "code",
   "execution_count": 79,
   "metadata": {
    "colab": {
     "base_uri": "https://localhost:8080/",
     "height": 226
    },
    "executionInfo": {
     "elapsed": 117,
     "status": "error",
     "timestamp": 1744215332578,
     "user": {
      "displayName": "Andre Vale",
      "userId": "13312807037764510730"
     },
     "user_tz": 180
    },
    "id": "tH8-Kdm22Ujz",
    "outputId": "ae696e95-4e7f-4445-eba4-eaae7779a890"
   },
   "outputs": [
    {
     "name": "stdout",
     "output_type": "stream",
     "text": [
      "Np = 3\n",
      "Nz = 1\n"
     ]
    },
    {
     "data": {
      "image/png": "[encoded data removed]",
      "text/plain": [
       "<Figure size 640x480 with 1 Axes>"
      ]
     },
     "metadata": {},
     "output_type": "display_data"
    }
   ],
   "source": [
    "# Desenhar o gráfico com os polos e zeros\n",
    "print(f'Np = {len(polos)}')\n",
    "print(f'Nz = {len(zeros)}')\n",
    "\n",
    "plt.scatter(polos.real, np.zeros(len(polos)), marker='x', color='r')\n",
    "plt.scatter(zeros.real, np.zeros(len(zeros)), marker='o', color='b')\n",
    "plt.grid()\n",
    "plt.xlabel('Re')\n",
    "plt.ylabel('Im')\n",
    "plt.title('Zeros e Polos')\n",
    "\n",
    "plt.show()"
   ]
  },
  {
   "cell_type": "markdown",
   "metadata": {
    "id": "qIuaJzsk2uvB"
   },
   "source": [
    "## 4. Desenhar no gráfico as LGR no eixo REAL"
   ]
  },
  {
   "cell_type": "markdown",
   "metadata": {
    "id": "P4apGnFi2z8J"
   },
   "source": [
    "* A Direita do Polo/Zero, se tiver número ímpar de polos e zeros, logo aquele trecho é LGR;\n",
    "\n",
    "* O LGR se situa a esquerda de um número ímpar de polos e zeros."
   ]
  },
  {
   "cell_type": "markdown",
   "metadata": {
    "id": "twlbT1k93P_K"
   },
   "source": [
    "COLOCAR EXEMPLO\n"
   ]
  },
  {
   "cell_type": "markdown",
   "metadata": {
    "id": "6JDZxFKU3Sv6"
   },
   "source": [
    "## 5. Determinar o número de lugares separados do LGR"
   ]
  },
  {
   "cell_type": "markdown",
   "metadata": {
    "id": "KCuuU5Tw3bit"
   },
   "source": [
    "Cada polo deve ir para um Zero, esses zeros podem ser os que estão na equação. Se sobrar Polos sem ligações com Zeros locais, esses polos terão curvas que vão para o Zero no INFINITO.\n",
    "\n",
    "<br>\n",
    "\n",
    "* $n_z$ = Número de pólos finitos;\n",
    "* $n_p$ = Número de zeros finitos;"
   ]
  },
  {
   "cell_type": "markdown",
   "metadata": {
    "id": "YKYsv4ON36gV"
   },
   "source": [
    "## 6. O LGR deve ser simétrico em relação ao EIXO REAL"
   ]
  },
  {
   "cell_type": "markdown",
   "metadata": {
    "id": "uzomceBc4D2c"
   },
   "source": [
    "## 7. Calcular os ângulos das assíntotas"
   ]
  },
  {
   "cell_type": "markdown",
   "metadata": {
    "id": "tU_XaKBH4Jjq"
   },
   "source": [
    "* Ponto de encontro das assíntotas $\\sigma_A:$\n",
    "\n",
    "$\\sigma_A = \\frac{\\sum(-p_j) - \\sum(-z_i)}{n_p - n_z}$"
   ]
  },
  {
   "cell_type": "markdown",
   "metadata": {
    "id": "w5pXYZwa64v0"
   },
   "source": [
    "* Ângulo de cada assíntota $\\phi_A$:\n",
    "\n",
    "$Φ_A = \\frac{(2q +1)}{n_p - n_z}180°$\n",
    "\n",
    "$q = 0,1,2,...,(n_p - n_z - 1)$"
   ]
  },
  {
   "cell_type": "code",
   "execution_count": 80,
   "metadata": {
    "colab": {
     "base_uri": "https://localhost:8080/"
    },
    "executionInfo": {
     "elapsed": 32,
     "status": "ok",
     "timestamp": 1744199147328,
     "user": {
      "displayName": "Andre Vale",
      "userId": "13312807037764510730"
     },
     "user_tz": 180
    },
    "id": "530QWIRc7QCa",
    "outputId": "844812ff-d881-44fe-d7f0-df6a623ff32d"
   },
   "outputs": [
    {
     "name": "stdout",
     "output_type": "stream",
     "text": [
      "Sigma_A = (-4+0j) (Ponto de encontro das assintotas)\n",
      "phi_a = [ 90. 270.] (Angulos das assintotas)\n"
     ]
    }
   ],
   "source": [
    "sigma_A = (np.sum(polos) - np.sum(zeros)) / (len(polos) - len(zeros))\n",
    "print(f'Sigma_A = {sigma_A} (Ponto de encontro das assintotas)')\n",
    "\n",
    "phi_A = np.zeros((len(polos)-len(zeros),))\n",
    "\n",
    "for i in range((len(polos)-len(zeros))):\n",
    "    phi_A[i] = (2*i+1) / ((len(polos)-len(zeros))) * 180\n",
    "\n",
    "print(f'phi_a = {phi_A} (Angulos das assintotas)')"
   ]
  },
  {
   "cell_type": "markdown",
   "metadata": {
    "id": "wxiH0JvDwMmA"
   },
   "source": [
    "## 8. Determinar o ponto de saída ou chegada no eixo real"
   ]
  },
  {
   "cell_type": "markdown",
   "metadata": {
    "id": "F-9u3GP0wRwl"
   },
   "source": [
    "$\\frac{dp(s)}{ds} = 0$\n",
    "\n",
    "Sendo P(s):\n",
    "\n",
    "$1 + K P(s) = 0$\n",
    "\n",
    "$K P(s) = -1$\n",
    "\n",
    "$K = -\\frac{1}{P(s)}$, portanto, $p(s) = -\\frac{1}{P(s)}$\n",
    "\n",
    "$\\frac{dp(s)}{ds} = \\frac{denomiador de P(s)}{numerador de P(s)}$"
   ]
  },
  {
   "cell_type": "code",
   "execution_count": 81,
   "metadata": {
    "colab": {
     "base_uri": "https://localhost:8080/",
     "height": 118
    },
    "executionInfo": {
     "elapsed": 106,
     "status": "ok",
     "timestamp": 1744199333797,
     "user": {
      "displayName": "Andre Vale",
      "userId": "13312807037764510730"
     },
     "user_tz": 180
    },
    "id": "0HYeNHBKxMLB",
    "outputId": "40f166f3-a757-4c29-e6b6-3ffe5e577706"
   },
   "outputs": [
    {
     "data": {
      "text/latex": [
       "$\\displaystyle - \\frac{2 s \\left(s + 3\\right)^{2}}{\\left(s + 1\\right)^{2}}$"
      ],
      "text/plain": [
       "-2*s*(s + 3)**2/(s + 1)**2"
      ]
     },
     "metadata": {},
     "output_type": "display_data"
    },
    {
     "data": {
      "text/latex": [
       "$\\displaystyle - 2 s^{3} - 12 s^{2} - 18 s$"
      ],
      "text/plain": [
       "-2*s**3 - 12*s**2 - 18*s"
      ]
     },
     "metadata": {},
     "output_type": "display_data"
    },
    {
     "data": {
      "text/plain": [
       "{-3: 2, 0: 1}"
      ]
     },
     "metadata": {},
     "output_type": "display_data"
    }
   ],
   "source": [
    "ps = -1 / Ps\n",
    "# ps = ps\n",
    "\n",
    "dps = sympy.factor(sympy.diff(ps,s))\n",
    "dps_numerador, dps_denominador = sympy.fraction(dps)\n",
    "\n",
    "display(dps)\n",
    "\n",
    "display(sympy.expand(dps_numerador))\n",
    "\n",
    "display(sympy.roots(dps_numerador,s))"
   ]
  },
  {
   "cell_type": "code",
   "execution_count": 82,
   "metadata": {},
   "outputs": [
    {
     "name": "stdout",
     "output_type": "stream",
     "text": [
      "Delta = 0\n",
      "x1,2 = -3.0\n"
     ]
    }
   ],
   "source": [
    "# Bhaskara simples\n",
    "a = 2\n",
    "b = 12\n",
    "c = 18\n",
    "\n",
    "delta = b**2 - 4 * a * c\n",
    "print(f'Delta = {delta}')\n",
    "\n",
    "if delta > 0:\n",
    "    x1 = (-b + np.sqrt(delta)) / (2*4)\n",
    "    x2 = (-b - np.sqrt(delta)) / (2*4)\n",
    "    print(f'x1 = {x1}\\nx2 ={x2}')\n",
    "elif delta == 0:\n",
    "    x12 = (-b) / (2*a)\n",
    "    print(f'x1,2 = {x12}')\n",
    "else:\n",
    "    x1_complexo = (-b + np.sqrt(delta)) / (2*4)\n",
    "    x2_complexo = (-b - np.sqrt(delta)) / (2*4)\n",
    "    print(f'x1 = {x1_complexo}\\nx2 ={x2_complexo}')\n"
   ]
  },
  {
   "cell_type": "markdown",
   "metadata": {
    "id": "F7O30nD94JrR"
   },
   "source": [
    "## 9. Determinar o ponto que cruza o eixo Imaginário"
   ]
  },
  {
   "cell_type": "markdown",
   "metadata": {
    "id": "__7co8s64PGN"
   },
   "source": [
    "Caso desconfie que a LGR cruza o eixo imaginário, deve-se utilizar do Routh-Houwitz para detrminar o ponto de cruzamento a partir de um $K_{critico}$."
   ]
  },
  {
   "cell_type": "code",
   "execution_count": 83,
   "metadata": {
    "id": "6ByGKzwoZAhG"
   },
   "outputs": [],
   "source": [
    "# fazer exemplo\n"
   ]
  },
  {
   "cell_type": "markdown",
   "metadata": {
    "id": "ADFSBUInZCUV"
   },
   "source": [
    "## 10. Usando a condição de ângulo para saber o ângulo de saída dos polos complexos e de chegada para Zeros complexos"
   ]
  },
  {
   "cell_type": "code",
   "execution_count": 84,
   "metadata": {
    "id": "XVNxTH6CZkKX"
   },
   "outputs": [],
   "source": [
    "# Fazer exemplo"
   ]
  },
  {
   "cell_type": "markdown",
   "metadata": {
    "id": "LpzkHZkTZnUu"
   },
   "source": [
    "## 11. Critério de ângulo de fase"
   ]
  },
  {
   "cell_type": "markdown",
   "metadata": {
    "id": "kTSeietNZsP1"
   },
   "source": [
    "Serve para verificar se o ponto em questão, pertece ou não a LGR:\n",
    "\n",
    "$/\\underline{{G(s)H(s)}} |_{s = s_i} = \\sum (\\theta_i) - \\sum (\\phi_j) = 180° \\pm q360° $"
   ]
  },
  {
   "cell_type": "code",
   "execution_count": 85,
   "metadata": {
    "id": "Zf3XjaasbYLN"
   },
   "outputs": [
    {
     "name": "stdout",
     "output_type": "stream",
     "text": [
      "ThetaSUM = 315.0\n",
      "PhiSUM = 135.0\n",
      "DENTRO: Ponto pertence ao LGR: 180.0 \n"
     ]
    }
   ],
   "source": [
    "theta_sum = 0\n",
    "phi_sum = 0\n",
    "\n",
    "for i in polos:\n",
    "    theta_sum += np.rad2deg(np.arctan2(si.imag - i.imag, si.real - i.real))\n",
    "    # print(theta_sum)\n",
    "# print()\n",
    "\n",
    "for i in zeros:\n",
    "    phi_sum += np.rad2deg(np.arctan2(si.imag - i.imag, si.real - i.real))\n",
    "    # print(phi_sum)\n",
    "# print()\n",
    "\n",
    "print(f'ThetaSUM = {theta_sum}')\n",
    "print(f'PhiSUM = {phi_sum}')\n",
    "\n",
    "CriterioAngulo = theta_sum - phi_sum\n",
    "\n",
    "if CriterioAngulo < (180 + 0.2) and CriterioAngulo > (180 - 0.2):\n",
    "    print(f'DENTRO: Ponto pertence ao LGR: {CriterioAngulo} ') \n",
    "else:\n",
    "    print(f'FORA: Ponto NAO pertence ao LGR: {CriterioAngulo}')"
   ]
  },
  {
   "cell_type": "markdown",
   "metadata": {},
   "source": [
    "## 12. Critério de módulo"
   ]
  },
  {
   "cell_type": "markdown",
   "metadata": {},
   "source": [
    "Serve para calcular o valor de K na raiz $s_i$:\n",
    "\n",
    "$|k_iP(s)| = 1$\n",
    "\n",
    "$K_i = \\frac{\\prod_{i=1}^{n_p} |(s + p_i)|}{\\prod_{j=1}^{n_z} |(s + z_j)|} = 1$\n",
    "\n",
    "onde $|s+p_i|$ e $|s+z_j|$ são os módulos das distânicias entre a raiz estudada e o polo/zero:\n",
    "\n",
    "$K_i = \\frac{\\prod_{i=1}^{n_p}A_i}{\\prod_{j=1}^{n_p}B_j} = 1$"
   ]
  },
  {
   "cell_type": "code",
   "execution_count": 86,
   "metadata": {},
   "outputs": [
    {
     "name": "stdout",
     "output_type": "stream",
     "text": [
      "Valor do parametro K na raiz (-2+1j): 25.000000000000004\n"
     ]
    }
   ],
   "source": [
    "Asum = 1\n",
    "Bsum = 1\n",
    "\n",
    "# Corrigir este cálculo\n",
    "for i in polos:\n",
    "    Asum *= np.sqrt((si.real-i.real)**2 + (si.imag - i.imag)**2)\n",
    "    # print(Asum)\n",
    "    \n",
    "for i in zeros:\n",
    "    Bsum *= np.sqrt((si.real-i.real)**2 + (si.imag - i.imag)**2)\n",
    "    # print(Bsum)\n",
    "    \n",
    "K = Asum / Bsum\n",
    "\n",
    "print(f'Valor do parametro K na raiz {si}: {K}')"
   ]
  },
  {
   "cell_type": "markdown",
   "metadata": {},
   "source": [
    "## Gráfico da LGR"
   ]
  },
  {
   "cell_type": "code",
   "execution_count": 87,
   "metadata": {},
   "outputs": [
    {
     "data": {
      "image/png": "[encoded data removed]",
      "text/plain": [
       "<Figure size 640x480 with 1 Axes>"
      ]
     },
     "metadata": {},
     "output_type": "display_data"
    }
   ],
   "source": [
    "GH = ct.TransferFunction(Zeros_plot, Polos_plot)\n",
    "\n",
    "rlist, klist = ct.rlocus(GH)\n",
    "\n",
    "plt.show()"
   ]
  }
 ],
 "metadata": {
  "colab": {
   "authorship_tag": "ABX9TyO4X8REL5d2mXYnuOxrW8hW",
   "provenance": []
  },
  "kernelspec": {
   "display_name": "Python 3",
   "name": "python3"
  },
  "language_info": {
   "codemirror_mode": {
    "name": "ipython",
    "version": 3
   },
   "file_extension": ".py",
   "mimetype": "text/x-python",
   "name": "python",
   "nbconvert_exporter": "python",
   "pygments_lexer": "ipython3",
   "version": "3.9.10"
  }
 },
 "nbformat": 4,
 "nbformat_minor": 0
}
