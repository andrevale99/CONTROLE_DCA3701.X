{
  "cells": [
    {
      "cell_type": "code",
      "execution_count": 241,
      "metadata": {
        "id": "WrK1f73yiyAF"
      },
      "outputs": [],
      "source": [
        "#!pip install control\n",
        "#!pip install tbcontrol"
      ]
    },
    {
      "cell_type": "code",
      "execution_count": 242,
      "metadata": {
        "id": "OMhWI0PMzUhO"
      },
      "outputs": [],
      "source": [
        "import control as ct\n",
        "from tbcontrol.symbolic import routh\n",
        "import sympy\n",
        "import matplotlib.pyplot as plt\n",
        "import numpy as np\n",
        "from math import sqrt"
      ]
    },
    {
      "cell_type": "markdown",
      "metadata": {
        "id": "E3eV6NqIzFd2"
      },
      "source": [
        "# Etapas do LGR\n"
      ]
    },
    {
      "cell_type": "markdown",
      "metadata": {
        "id": "D99GI7ulivzy"
      },
      "source": [
        "Dados das questões"
      ]
    },
    {
      "cell_type": "code",
      "execution_count": 243,
      "metadata": {
        "colab": {
          "base_uri": "https://localhost:8080/"
        },
        "id": "n7NC8dhjtTUp",
        "outputId": "a621ea67-2d2d-4c85-dc2e-f7406905632b"
      },
      "outputs": [
        {
          "name": "stdout",
          "output_type": "stream",
          "text": [
            "{-4 - 4*I: 1, -4 + 4*I: 1}\n"
          ]
        }
      ],
      "source": [
        "# Caso nao saiba/queira calcular as raizes na mao\n",
        "\n",
        "eq = s**2 + 8*s + 32\n",
        "print(sympy.roots(eq))\n",
        "\n",
        "del eq"
      ]
    },
    {
      "cell_type": "code",
      "execution_count": 244,
      "metadata": {
        "id": "0_WJgLJMivz0"
      },
      "outputs": [],
      "source": [
        "k,s = sympy.symbols('k s')\n",
        "# Escrever Gs e Hs e achar o Ps\n",
        "GsHs_numerador = (s+1)\n",
        "GsHs_denominador = s*(s+4)*(s+2)*(s+4)\n",
        "\n",
        "polos = np.array([0,-2,-4,-4], dtype=np.complex64)\n",
        "\n",
        "if GsHs_numerador == 1:\n",
        "    zeros = np.empty((0,0))\n",
        "else:\n",
        "    zeros = np.array([-1], dtype=np.complex64)\n",
        "\n",
        "# Caso NÃO tenha zeros, usar este vetor\n",
        "\n",
        "si = -1 + 1.12j"
      ]
    },
    {
      "cell_type": "markdown",
      "metadata": {
        "id": "x7eODkXGzv9K"
      },
      "source": [
        "## 1. Escrever o Polinômio característico"
      ]
    },
    {
      "cell_type": "markdown",
      "metadata": {
        "id": "6TuCH2jez1Yh"
      },
      "source": [
        "$ 1 + G(s)H(s) = 0$ ou $1 + KP(s)$\n",
        "\n",
        "<br>\n",
        "\n",
        "sendo: $P(s) = G(s)H(s)$"
      ]
    },
    {
      "cell_type": "code",
      "execution_count": 245,
      "metadata": {
        "colab": {
          "base_uri": "https://localhost:8080/",
          "height": 58
        },
        "id": "jqzXwd9l0FiO",
        "outputId": "4e4bee8b-5f24-4c92-f498-603cfa2368de"
      },
      "outputs": [
        {
          "data": {
            "text/latex": [
              "$\\displaystyle \\frac{s + 1}{s \\left(s + 2\\right) \\left(s + 4\\right)^{2}}$"
            ],
            "text/plain": [
              "(s + 1)/(s*(s + 2)*(s + 4)**2)"
            ]
          },
          "metadata": {},
          "output_type": "display_data"
        }
      ],
      "source": [
        "display(GsHs_numerador / GsHs_denominador)"
      ]
    },
    {
      "cell_type": "markdown",
      "metadata": {
        "id": "1WABoUJS0peK"
      },
      "source": [
        "## 2. Fatorar o polinômio"
      ]
    },
    {
      "cell_type": "markdown",
      "metadata": {
        "id": "sD0R3kJF01W0"
      },
      "source": [
        "Fatorar o polinômio para ficar em função de Zeros ($n_z$) e Polos ($n_p$):\n",
        "\n",
        "<br>\n",
        "\n",
        "$1 + G(s)H(s) = 1 + K \\cdot \\frac{\\prod_{i=1}^{n_z}(s + z_i)}{\\prod_{j=1}^{n_p}(s + p_j)}$"
      ]
    },
    {
      "cell_type": "code",
      "execution_count": 246,
      "metadata": {
        "colab": {
          "base_uri": "https://localhost:8080/",
          "height": 58
        },
        "id": "AAr0Xi6givz5",
        "outputId": "358bdb90-b6e6-45e8-83c7-1bc9d2aad1ca"
      },
      "outputs": [
        {
          "data": {
            "text/latex": [
              "$\\displaystyle \\frac{s + 1}{s \\left(s + 2\\right) \\left(s + 4\\right)^{2}}$"
            ],
            "text/plain": [
              "(s + 1)/(s*(s + 2)*(s + 4)**2)"
            ]
          },
          "metadata": {},
          "output_type": "display_data"
        }
      ],
      "source": [
        "Ps = GsHs_numerador / GsHs_denominador\n",
        "Ps = sympy.factor(Ps)\n",
        "display(Ps)"
      ]
    },
    {
      "cell_type": "markdown",
      "metadata": {
        "id": "13rEqKdv2CWS"
      },
      "source": [
        "## 3. Desenha no plano S os Zeros e Polos\n"
      ]
    },
    {
      "cell_type": "markdown",
      "metadata": {
        "id": "W7gpgG_i2Q6u"
      },
      "source": [
        "* Polos = X\n",
        "* Zeros = O"
      ]
    },
    {
      "cell_type": "markdown",
      "metadata": {
        "id": "qIuaJzsk2uvB"
      },
      "source": [
        "## 4. Desenhar no gráfico as LGR no eixo REAL"
      ]
    },
    {
      "cell_type": "markdown",
      "metadata": {
        "id": "P4apGnFi2z8J"
      },
      "source": [
        "* A Direita do Polo/Zero, se tiver número ímpar de polos e zeros, logo aquele trecho é LGR;\n",
        "\n",
        "* O LGR se situa a esquerda de um número ímpar de polos e zeros."
      ]
    },
    {
      "cell_type": "markdown",
      "metadata": {
        "id": "twlbT1k93P_K"
      },
      "source": [
        "COLOCAR EXEMPLO\n"
      ]
    },
    {
      "cell_type": "markdown",
      "metadata": {
        "id": "6JDZxFKU3Sv6"
      },
      "source": [
        "## 5. Determinar o número de lugares separados do LGR"
      ]
    },
    {
      "cell_type": "markdown",
      "metadata": {
        "id": "KCuuU5Tw3bit"
      },
      "source": [
        "Cada polo deve ir para um Zero, esses zeros podem ser os que estão na equação. Se sobrar Polos sem ligações com Zeros locais, esses polos terão curvas que vão para o Zero no INFINITO.\n",
        "\n",
        "<br>\n",
        "\n",
        "* $n_z$ = Número de pólos finitos;\n",
        "* $n_p$ = Número de zeros finitos;"
      ]
    },
    {
      "cell_type": "markdown",
      "metadata": {
        "id": "YKYsv4ON36gV"
      },
      "source": [
        "## 6. O LGR deve ser simétrico em relação ao EIXO REAL"
      ]
    },
    {
      "cell_type": "markdown",
      "metadata": {
        "id": "uzomceBc4D2c"
      },
      "source": [
        "## 7. Calcular os ângulos das assíntotas"
      ]
    },
    {
      "cell_type": "markdown",
      "metadata": {
        "id": "tU_XaKBH4Jjq"
      },
      "source": [
        "* Ponto de encontro das assíntotas $\\sigma_A:$\n",
        "\n",
        "$\\sigma_A = \\frac{\\sum(-p_j) - \\sum(-z_i)}{n_p - n_z}$"
      ]
    },
    {
      "cell_type": "markdown",
      "metadata": {
        "id": "w5pXYZwa64v0"
      },
      "source": [
        "* Ângulo de cada assíntota $\\phi_A$:\n",
        "\n",
        "$Φ_A = \\frac{(2q +1)}{n_p - n_z}180°$\n",
        "\n",
        "$q = 0,1,2,...,(n_p - n_z - 1)$"
      ]
    },
    {
      "cell_type": "code",
      "execution_count": 247,
      "metadata": {
        "colab": {
          "base_uri": "https://localhost:8080/"
        },
        "id": "530QWIRc7QCa",
        "outputId": "278b4968-62b6-42c3-fbe0-077498f2c931"
      },
      "outputs": [
        {
          "name": "stdout",
          "output_type": "stream",
          "text": [
            "Quantidade de assíntotas 3\n",
            "Sigma_A = (-3+0j) (Ponto de encontro das assintotas)\n",
            "phi_a = [ 60. 180. 300.] (Angulos das assintotas)\n"
          ]
        }
      ],
      "source": [
        "sigma_A = (np.sum(polos) - np.sum(zeros)) / (len(polos) - len(zeros))\n",
        "print(f'Quantidade de assíntotas {(len(polos) - len(zeros))}')\n",
        "print(f'Sigma_A = {sigma_A} (Ponto de encontro das assintotas)')\n",
        "\n",
        "phi_A = np.zeros((len(polos)-len(zeros),))\n",
        "\n",
        "for i in range((len(polos)-len(zeros))):\n",
        "    phi_A[i] = (2*i+1) / ((len(polos)-len(zeros))) * 180\n",
        "\n",
        "print(f'phi_a = {phi_A} (Angulos das assintotas)')"
      ]
    },
    {
      "cell_type": "markdown",
      "metadata": {
        "id": "wxiH0JvDwMmA"
      },
      "source": [
        "## 8. Determinar o ponto de saída ou chegada no eixo real"
      ]
    },
    {
      "cell_type": "markdown",
      "metadata": {
        "id": "F-9u3GP0wRwl"
      },
      "source": [
        "$\\frac{dp(s)}{ds} = 0$\n",
        "\n",
        "Sendo P(s):\n",
        "\n",
        "$1 + K P(s) = 0$\n",
        "\n",
        "$K P(s) = -1$\n",
        "\n",
        "$K = -\\frac{1}{P(s)}$, portanto, $p(s) = -\\frac{1}{P(s)}$\n",
        "\n",
        "$\\frac{dp(s)}{ds} = \\frac{denomiador de P(s)}{numerador de P(s)}$"
      ]
    },
    {
      "cell_type": "code",
      "execution_count": 248,
      "metadata": {
        "colab": {
          "base_uri": "https://localhost:8080/",
          "height": 141
        },
        "id": "0HYeNHBKxMLB",
        "outputId": "99bedebc-c780-447b-c8db-ffc49684de03"
      },
      "outputs": [
        {
          "data": {
            "text/latex": [
              "$\\displaystyle - \\frac{s^{4}}{s + 1} - \\frac{10 s^{3}}{s + 1} - \\frac{32 s^{2}}{s + 1} - \\frac{32 s}{s + 1}$"
            ],
            "text/plain": [
              "-s**4/(s + 1) - 10*s**3/(s + 1) - 32*s**2/(s + 1) - 32*s/(s + 1)"
            ]
          },
          "metadata": {},
          "output_type": "display_data"
        },
        {
          "data": {
            "text/latex": [
              "$\\displaystyle - \\frac{\\left(s + 4\\right) \\left(3 s^{3} + 12 s^{2} + 14 s + 8\\right)}{\\left(s + 1\\right)^{2}}$"
            ],
            "text/plain": [
              "-(s + 4)*(3*s**3 + 12*s**2 + 14*s + 8)/(s + 1)**2"
            ]
          },
          "metadata": {},
          "output_type": "display_data"
        },
        {
          "data": {
            "text/latex": [
              "$\\displaystyle - 3 s^{4} - 24 s^{3} - 62 s^{2} - 64 s - 32$"
            ],
            "text/plain": [
              "-3*s**4 - 24*s**3 - 62*s**2 - 64*s - 32"
            ]
          },
          "metadata": {},
          "output_type": "display_data"
        },
        {
          "name": "stdout",
          "output_type": "stream",
          "text": [
            "[-4.00000000000000, -2.59935653381380, -0.700321733093098 - 0.73174065860074*I, -0.700321733093098 + 0.73174065860074*I]\n"
          ]
        }
      ],
      "source": [
        "ps = -1 / Ps\n",
        "# ps = ps\n",
        "display(ps.expand())\n",
        "dps = sympy.factor(sympy.diff(ps.expand(),s))\n",
        "dps_numerador, dps_denominador = sympy.fraction(dps)\n",
        "\n",
        "display(dps)\n",
        "\n",
        "display(sympy.expand(dps_numerador))\n",
        "\n",
        "raizes = sympy.nroots(dps_numerador)\n",
        "\n",
        "print(raizes)"
      ]
    },
    {
      "cell_type": "markdown",
      "metadata": {
        "id": "F7O30nD94JrR"
      },
      "source": [
        "## 9. Determinar o ponto que cruza o eixo Imaginário"
      ]
    },
    {
      "cell_type": "markdown",
      "metadata": {
        "id": "__7co8s64PGN"
      },
      "source": [
        "Caso desconfie que a LGR cruza o eixo imaginário, deve-se utilizar do Routh-Houwitz para detrminar o ponto de cruzamento a partir de um $K_{critico}$."
      ]
    },
    {
      "cell_type": "code",
      "execution_count": 249,
      "metadata": {
        "id": "6ByGKzwoZAhG"
      },
      "outputs": [],
      "source": [
        "# fazer exemplo\n"
      ]
    },
    {
      "cell_type": "markdown",
      "metadata": {
        "id": "ADFSBUInZCUV"
      },
      "source": [
        "## 10. Usando a condição de ângulo para saber o ângulo de saída dos polos complexos e de chegada para Zeros complexos"
      ]
    },
    {
      "cell_type": "code",
      "execution_count": 250,
      "metadata": {
        "id": "XVNxTH6CZkKX"
      },
      "outputs": [],
      "source": [
        "# Fazer exemplo"
      ]
    },
    {
      "cell_type": "markdown",
      "metadata": {
        "id": "LpzkHZkTZnUu"
      },
      "source": [
        "## 11. Critério de ângulo de fase"
      ]
    },
    {
      "cell_type": "markdown",
      "metadata": {
        "id": "kTSeietNZsP1"
      },
      "source": [
        "Serve para verificar se o ponto em questão, pertece ou não a LGR:\n",
        "\n",
        "$/\\underline{{G(s)H(s)}} |_{s = s_i} = \\sum (\\theta_i) - \\sum (\\phi_j) = 180° \\pm q360° $"
      ]
    },
    {
      "cell_type": "code",
      "execution_count": 251,
      "metadata": {
        "colab": {
          "base_uri": "https://localhost:8080/"
        },
        "id": "Zf3XjaasbYLN",
        "outputId": "b0e57e47-5ab0-4b17-f457-3830891259aa"
      },
      "outputs": [
        {
          "name": "stdout",
          "output_type": "stream",
          "text": [
            "ThetaSUM = 220.94454956054688\n",
            "PhiSUM = 90.0\n",
            "FORA: Ponto NAO pertence ao LGR: 130.94454956054688\n"
          ]
        }
      ],
      "source": [
        "theta_sum = 0\n",
        "phi_sum = 0\n",
        "CriterioDeAngulo = False\n",
        "\n",
        "for i in polos:\n",
        "    theta_sum += np.rad2deg(np.arctan2(si.imag - i.imag, si.real - i.real))\n",
        "    # print(theta_sum)\n",
        "# print()\n",
        "\n",
        "for i in zeros:\n",
        "    phi_sum += np.rad2deg(np.arctan2(si.imag - i.imag, si.real - i.real))\n",
        "    # print(phi_sum)\n",
        "# print()\n",
        "\n",
        "print(f'ThetaSUM = {theta_sum}')\n",
        "print(f'PhiSUM = {phi_sum}')\n",
        "\n",
        "CriterioAngulo = theta_sum - phi_sum\n",
        "\n",
        "if CriterioAngulo < (180 + 0.2) and CriterioAngulo > (180 - 0.2):\n",
        "    print(f'DENTRO: Ponto pertence ao LGR: {CriterioAngulo} ')\n",
        "    CriterioDeAngulo = True\n",
        "else:\n",
        "    print(f'FORA: Ponto NAO pertence ao LGR: {CriterioAngulo}')\n",
        "    CriterioDeAngulo = False"
      ]
    },
    {
      "cell_type": "markdown",
      "metadata": {
        "id": "cATGoj_hiv0I"
      },
      "source": [
        "## 12. Critério de módulo"
      ]
    },
    {
      "cell_type": "markdown",
      "metadata": {
        "id": "_suf8XWdiv0I"
      },
      "source": [
        "Serve para calcular o valor de K na raiz $s_i$:\n",
        "\n",
        "$|k_iP(s)| = 1$\n",
        "\n",
        "$K_i = \\frac{\\prod_{i=1}^{n_p} |(s + p_i)|}{\\prod_{j=1}^{n_z} |(s + z_j)|} = 1$\n",
        "\n",
        "onde $|s+p_i|$ e $|s+z_j|$ são os módulos das distânicias entre a raiz estudada e o polo/zero:\n",
        "\n",
        "$K_i = \\frac{\\prod_{i=1}^{n_p}A_i}{\\prod_{j=1}^{n_p}B_j} = 1$"
      ]
    },
    {
      "cell_type": "code",
      "execution_count": 252,
      "metadata": {
        "id": "2IlnTt5Biv0J"
      },
      "outputs": [],
      "source": [
        "if CriterioDeAngulo:\n",
        "    Asum = 1\n",
        "    Bsum = 1\n",
        "\n",
        "    for i in polos:\n",
        "        Asum *= np.sqrt((si.real-i.real)**2 + (si.imag - i.imag)**2)\n",
        "        # print(Asum)\n",
        "\n",
        "    for i in zeros:\n",
        "        Bsum *= np.sqrt((si.real-i.real)**2 + (si.imag - i.imag)**2)\n",
        "        # print(Bsum)\n",
        "\n",
        "    K = Asum / Bsum\n",
        "\n",
        "    print(f'Valor do parametro K na raiz {si}: {K}')"
      ]
    },
    {
      "cell_type": "markdown",
      "metadata": {
        "id": "FtJA0f44iv0J"
      },
      "source": [
        "## Gráfico da LGR"
      ]
    },
    {
      "cell_type": "code",
      "execution_count": 253,
      "metadata": {
        "colab": {
          "base_uri": "https://localhost:8080/",
          "height": 90
        },
        "id": "rTCPwY2jq1Oa",
        "outputId": "f56c0619-3576-45d7-8200-ed05d1ff7293"
      },
      "outputs": [
        {
          "data": {
            "text/latex": [
              "$\\displaystyle \\frac{s}{s^{4} + 10 s^{3} + 32 s^{2} + 32 s} + \\frac{1}{s^{4} + 10 s^{3} + 32 s^{2} + 32 s}$"
            ],
            "text/plain": [
              "s/(s**4 + 10*s**3 + 32*s**2 + 32*s) + 1/(s**4 + 10*s**3 + 32*s**2 + 32*s)"
            ]
          },
          "metadata": {},
          "output_type": "display_data"
        },
        {
          "name": "stdout",
          "output_type": "stream",
          "text": [
            "[1 10 32 32 0]\n",
            "[1 1]\n"
          ]
        }
      ],
      "source": [
        "Ps = GsHs_numerador / GsHs_denominador\n",
        "Ps = sympy.factor(Ps)\n",
        "display(Ps.expand())\n",
        "\n",
        "Coeficientes_denominador = np.array(sympy.Poly(GsHs_denominador,s).all_coeffs())\n",
        "Coeficientes_numerador = np.array(sympy.Poly(GsHs_numerador,s).all_coeffs())\n",
        "\n",
        "print(Coeficientes_denominador)\n",
        "print(Coeficientes_numerador)"
      ]
    },
    {
      "cell_type": "code",
      "execution_count": 261,
      "metadata": {
        "colab": {
          "base_uri": "https://localhost:8080/",
          "height": 1000
        },
        "id": "gowTSdo2iv0K",
        "outputId": "a64a7a6f-d7c8-4ec1-e273-0a90926a2fb7"
      },
      "outputs": [
        {
          "ename": "TypeError",
          "evalue": "iter() returned non-iterator of type 'numpy.ndarray'",
          "output_type": "error",
          "traceback": [
            "\u001b[0;31m---------------------------------------------------------------------------\u001b[0m",
            "\u001b[0;31mTypeError\u001b[0m                                 Traceback (most recent call last)",
            "\u001b[0;32m<ipython-input-261-6354fce4d95e>\u001b[0m in \u001b[0;36m<cell line: 0>\u001b[0;34m()\u001b[0m\n\u001b[1;32m     30\u001b[0m \u001b[0mGH\u001b[0m \u001b[0;34m=\u001b[0m \u001b[0mct\u001b[0m\u001b[0;34m.\u001b[0m\u001b[0mTransferFunction\u001b[0m\u001b[0;34m(\u001b[0m\u001b[0mZeros_plot\u001b[0m\u001b[0;34m,\u001b[0m \u001b[0mPolos_plot\u001b[0m\u001b[0;34m)\u001b[0m\u001b[0;34m\u001b[0m\u001b[0;34m\u001b[0m\u001b[0m\n\u001b[1;32m     31\u001b[0m \u001b[0;34m\u001b[0m\u001b[0m\n\u001b[0;32m---> 32\u001b[0;31m \u001b[0mrlist\u001b[0m\u001b[0;34m,\u001b[0m \u001b[0mklist\u001b[0m \u001b[0;34m=\u001b[0m \u001b[0mct\u001b[0m\u001b[0;34m.\u001b[0m\u001b[0mrlocus\u001b[0m\u001b[0;34m(\u001b[0m\u001b[0mGH\u001b[0m\u001b[0;34m)\u001b[0m\u001b[0;34m\u001b[0m\u001b[0;34m\u001b[0m\u001b[0m\n\u001b[0m",
            "\u001b[0;31mTypeError\u001b[0m: iter() returned non-iterator of type 'numpy.ndarray'"
          ]
        },
        {
          "name": "stderr",
          "output_type": "stream",
          "text": [
            "WARNING:matplotlib.axes._base:Ignoring fixed x limits to fulfill fixed data aspect with adjustable data limits.\n"
          ]
        },
        {
          "data": {
            "image/png": "[encoded data removed]",
            "text/plain": [
              "<Figure size 640x480 with 1 Axes>"
            ]
          },
          "metadata": {},
          "output_type": "display_data"
        }
      ],
      "source": [
        "Polos_plot = np.zeros((len(Coeficientes_denominador)))\n",
        "\n",
        "if len(Coeficientes_numerador) == 1:\n",
        "    Zeros_plot = np.zeros((len(Coeficientes_numerador)+1))\n",
        "    Zeros_plot[1] = Coeficientes_numerador[0]\n",
        "else:\n",
        "    Zeros_plot = np.zeros((len(Coeficientes_numerador)))\n",
        "\n",
        "    for i in range(len(Coeficientes_numerador)):\n",
        "        Zeros_plot[i] = Coeficientes_numerador[i]\n",
        "\n",
        "for i in range(len(Coeficientes_denominador)):\n",
        "    Polos_plot[i] = Coeficientes_denominador[i]\n",
        "\n",
        "# AS DUAS VARIAVEIS ABAIXO SERVEM PARA PLOTAR\n",
        "# O GRAFICO NA ÚLTIMA CÉLULA\n",
        "#\n",
        "# No menor indice do vetor, deve ser colocado\n",
        "# a constante que acompanha o termo \"s\" de maior\n",
        "# grau. TODOS OS TERMOS DEVEM ESTA COM O SINAL TROCADO\n",
        "# Se o POLO/ZERO for do lado esquerdo do plano S, deve-se\n",
        "# inverter seu sinal\n",
        "#\n",
        "# EXEMPLO: (2s^2 + 4s + 7) / (s^2 + 99s)\n",
        "# numerador = np.array([2,4,0,7])\n",
        "# denominador = np.array([1,99,0])\n",
        "# Zeros_plot = np.array([0,1])\n",
        "# Polos_plot = np.array([1,12,64,128,0])\n",
        "\n",
        "GH = ct.TransferFunction(Zeros_plot, Polos_plot)\n",
        "\n",
        "rlist, klist = ct.rlocus(GH)"
      ]
    }
  ],
  "metadata": {
    "colab": {
      "provenance": []
    },
    "kernelspec": {
      "display_name": "Python 3",
      "name": "python3"
    },
    "language_info": {
      "codemirror_mode": {
        "name": "ipython",
        "version": 3
      },
      "file_extension": ".py",
      "mimetype": "text/x-python",
      "name": "python",
      "nbconvert_exporter": "python",
      "pygments_lexer": "ipython3",
      "version": "3.9.10"
    }
  },
  "nbformat": 4,
  "nbformat_minor": 0
}
